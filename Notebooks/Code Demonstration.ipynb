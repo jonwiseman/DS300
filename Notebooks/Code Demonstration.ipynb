{
 "cells": [
  {
   "cell_type": "markdown",
   "metadata": {},
   "source": [
    "This notebook contains a demonstration of Project code for class presentation.  The following components are included:\n",
    "\n",
    "(1) Dataset visualization  \n",
    "(2) Recommendation System using Agglomerative Clustering and Affinity Propagation"
   ]
  },
  {
   "cell_type": "code",
   "execution_count": 1,
   "metadata": {},
   "outputs": [],
   "source": [
    "import os\n",
    "import glob\n",
    "import json\n",
    "import random\n",
    "import numpy as np\n",
    "import matplotlib.pyplot as plt\n",
    "import pandas as pd\n",
    "\n",
    "from sklearn.feature_extraction.text import TfidfVectorizer\n",
    "\n",
    "from sklearn.decomposition import PCA\n",
    "from sklearn.decomposition import TruncatedSVD\n",
    "\n",
    "from sklearn.preprocessing import LabelEncoder\n",
    "from sklearn.preprocessing import Normalizer\n",
    "from sklearn.preprocessing import StandardScaler\n",
    "\n",
    "from sklearn.pipeline import make_pipeline\n",
    "\n",
    "from sklearn.cluster import KMeans\n",
    "from sklearn import metrics\n",
    "\n",
    "\n",
    "%matplotlib inline"
   ]
  },
  {
   "cell_type": "markdown",
   "metadata": {},
   "source": [
    "## Visualizations"
   ]
  },
  {
   "cell_type": "markdown",
   "metadata": {},
   "source": [
    "**TF-IDF Vectorization**"
   ]
  },
  {
   "cell_type": "code",
   "execution_count": 2,
   "metadata": {},
   "outputs": [],
   "source": [
    "cats = ['art', 'gaming', 'music', 'politics_news', 'reading', 'science', 'sports', 'tech']\n",
    "stem = 'lemma'"
   ]
  },
  {
   "cell_type": "code",
   "execution_count": 3,
   "metadata": {},
   "outputs": [],
   "source": [
    "documents = []\n",
    "\n",
    "for cat in cats:\n",
    "    os.chdir(fr'..\\Data\\{cat}\\Processed\\{stem}')\n",
    "    files = glob.glob('*.json')\n",
    "    for file in files:\n",
    "        with open(fr'..\\Data\\{cat}\\Processed\\{stem}\\{file}', 'r') as f:\n",
    "            comments = json.load(f)\n",
    "        documents.append((' '.join([comment['comment'] for comment in comments]), cat, cat, file.split('.json')[0]))\n",
    "        \n",
    "documents = np.array(documents)\n",
    "encoder = LabelEncoder()\n",
    "documents[:, 2] = encoder.fit_transform(documents[:, 2])"
   ]
  },
  {
   "cell_type": "code",
   "execution_count": 5,
   "metadata": {},
   "outputs": [],
   "source": [
    "tfidf_vectorizer = TfidfVectorizer(strip_accents='unicode', analyzer='word', ngram_range=(1,1))\n",
    "X = tfidf_vectorizer.fit_transform(documents[:, 0])\n",
    "svd = TruncatedSVD()  # default n_components=2 for plotting\n",
    "\n",
    "X = svd.fit_transform(X)"
   ]
  },
  {
   "cell_type": "code",
   "execution_count": 6,
   "metadata": {},
   "outputs": [],
   "source": [
    "def get_label(i, colors, documents):\n",
    "    \"\"\"\n",
    "    The get_label function helps plot one label per category.  Probably could find an easier way to do it, but this way\n",
    "    worked for me when I was starting the project.\n",
    "    \"\"\"\n",
    "    if colors[documents[i][1]][1] == 0:\n",
    "        colors[documents[i][1]][1] += 1\n",
    "        return documents[i][1]\n",
    "    else:\n",
    "        return \"\""
   ]
  },
  {
   "cell_type": "code",
   "execution_count": 7,
   "metadata": {},
   "outputs": [
    {
     "data": {
      "text/plain": [
       "Text(0.5, 1.0, 'TF-IDF Vectorization with 1-grams')"
      ]
     },
     "execution_count": 7,
     "metadata": {},
     "output_type": "execute_result"
    },
    {
     "data": {
      "image/png": "[encoded data removed]",
      "text/plain": [
       "<Figure size 1080x576 with 1 Axes>"
      ]
     },
     "metadata": {
      "needs_background": "light"
     },
     "output_type": "display_data"
    }
   ],
   "source": [
    "colors = {'sports': ['red', 0], 'reading': ['orange', 0], 'politics_news': ['yellow', 0], 'music': ['green', 0], 'gaming': ['blue', 0], 'art': ['indigo', 0], 'tech': ['violet', 0], 'science': ['black', 0]}\n",
    "\n",
    "fig = plt.figure(figsize = [15, 8])\n",
    "ax = fig.add_axes([0.1, 0.1, 0.8, 0.8])\n",
    "\n",
    "for i, sub in enumerate(X):\n",
    "    ax.plot(sub[0], sub[1], color=colors[documents[i][1]][0], marker='o', label=get_label(i, colors, documents))\n",
    "    \n",
    "ax.legend()\n",
    "ax.set_title('TF-IDF Vectorization with 1-grams')"
   ]
  },
  {
   "cell_type": "markdown",
   "metadata": {},
   "source": [
    "**Document Embeddings**"
   ]
  },
  {
   "cell_type": "code",
   "execution_count": 8,
   "metadata": {},
   "outputs": [],
   "source": [
    "import gensim\n",
    "from gensim.models.doc2vec import Doc2Vec, TaggedDocument\n",
    "from nltk.tokenize import word_tokenize"
   ]
  },
  {
   "cell_type": "code",
   "execution_count": 9,
   "metadata": {},
   "outputs": [],
   "source": [
    "cats.remove('reading')"
   ]
  },
  {
   "cell_type": "code",
   "execution_count": 10,
   "metadata": {},
   "outputs": [],
   "source": [
    "documents = []\n",
    "\n",
    "for cat in cats:\n",
    "    os.chdir(fr'..\\Data\\{cat}\\Processed\\{stem}')\n",
    "    files = glob.glob('*.json')\n",
    "    for file in files:\n",
    "        with open(fr'..\\Data\\{cat}\\Processed\\{stem}\\{file}', 'r') as f:\n",
    "            comments = json.load(f)\n",
    "        documents.append((' '.join([comment['comment'] for comment in comments]), cat, cat, file.split('.json')[0]))\n",
    "        \n",
    "documents = np.array(documents)\n",
    "encoder = LabelEncoder()\n",
    "documents[:, 2] = encoder.fit_transform(documents[:, 2])"
   ]
  },
  {
   "cell_type": "code",
   "execution_count": 11,
   "metadata": {},
   "outputs": [],
   "source": [
    "os.chdir(r'..\\Data')\n",
    "\n",
    "model = Doc2Vec.load('subs.model')\n",
    "\n",
    "doc_vectors = []\n",
    "for i in range(0, len(documents)):\n",
    "    doc_vectors.append(model[str(i)])\n",
    "\n",
    "doc_vectors = np.array(doc_vectors)\n",
    "scaler = StandardScaler()\n",
    "doc_scaled = scaler.fit_transform(doc_vectors)\n",
    "\n",
    "pca = PCA(n_components=2)\n",
    "pca.fit(doc_scaled)\n",
    "\n",
    "X_plot = pca.transform(doc_scaled)\n",
    "labels = np.array(documents[:, 2], dtype=int)"
   ]
  },
  {
   "cell_type": "code",
   "execution_count": 12,
   "metadata": {},
   "outputs": [
    {
     "data": {
      "text/plain": [
       "Text(0.5, 1.0, 'Document Embeddings for Subreddits')"
      ]
     },
     "execution_count": 12,
     "metadata": {},
     "output_type": "execute_result"
    },
    {
     "data": {
      "image/png": "[encoded data removed]",
      "text/plain": [
       "<Figure size 1080x576 with 1 Axes>"
      ]
     },
     "metadata": {
      "needs_background": "light"
     },
     "output_type": "display_data"
    }
   ],
   "source": [
    "colors = {'sports': ['red', 0], 'reading': ['orange', 0], 'politics_news': ['yellow', 0], 'music': ['green', 0], 'gaming': ['blue', 0], 'art': ['indigo', 0], 'tech': ['violet', 0], 'science': ['black', 0]}\n",
    "\n",
    "fig = plt.figure(figsize = [15, 8])\n",
    "ax = fig.add_axes([0.1, 0.1, 0.8, 0.8])\n",
    "\n",
    "for i, sub in enumerate(X_plot):\n",
    "    ax.plot(sub[0], sub[1], color=colors[documents[i][1]][0], marker='o', label=get_label(i, colors, documents))\n",
    "    \n",
    "ax.legend()\n",
    "ax.set_title('Document Embeddings for Subreddits')"
   ]
  },
  {
   "cell_type": "markdown",
   "metadata": {},
   "source": [
    "## Application"
   ]
  },
  {
   "cell_type": "markdown",
   "metadata": {},
   "source": [
    "**Create Models**"
   ]
  },
  {
   "cell_type": "code",
   "execution_count": 13,
   "metadata": {},
   "outputs": [],
   "source": [
    "from sklearn.cluster import AgglomerativeClustering\n",
    "from sklearn.cluster import AffinityPropagation"
   ]
  },
  {
   "cell_type": "code",
   "execution_count": null,
   "metadata": {},
   "outputs": [],
   "source": [
    "docs = list(documents[:, 0])\n",
    "tagged_data = [TaggedDocument(words=word_tokenize(_d.lower()), tags=[str(i)]) for i, _d in enumerate(docs)]"
   ]
  },
  {
   "cell_type": "code",
   "execution_count": 14,
   "metadata": {},
   "outputs": [
    {
     "data": {
      "text/plain": [
       "AffinityPropagation(affinity='euclidean', convergence_iter=15, copy=True,\n",
       "                    damping=0.5, max_iter=200, preference=None, verbose=False)"
      ]
     },
     "execution_count": 14,
     "metadata": {},
     "output_type": "execute_result"
    }
   ],
   "source": [
    "agg = AgglomerativeClustering(n_clusters=11, linkage='ward')\n",
    "agg.fit(doc_scaled)\n",
    "\n",
    "af = AffinityPropagation()\n",
    "af.fit(doc_scaled)"
   ]
  },
  {
   "cell_type": "markdown",
   "metadata": {},
   "source": [
    "**View Model Evaluations**"
   ]
  },
  {
   "cell_type": "code",
   "execution_count": 27,
   "metadata": {},
   "outputs": [
    {
     "name": "stdout",
     "output_type": "stream",
     "text": [
      "Silhouette score: 0.410948246717453\n",
      "Homogeneity: 0.809\n",
      "Completeness: 0.672\n",
      "V-measure: 0.734\n"
     ]
    }
   ],
   "source": [
    "print(f'Silhouette score: {metrics.silhouette_score(doc_scaled, labels=agg.labels_.reshape(-1))}')\n",
    "labels = np.array(documents[:, 2], dtype=int)\n",
    "print(\"Homogeneity: %0.3f\" % metrics.homogeneity_score(labels, agg.labels_))\n",
    "print(\"Completeness: %0.3f\" % metrics.completeness_score(labels, agg.labels_))\n",
    "print(\"V-measure: %0.3f\" % metrics.v_measure_score(labels, agg.labels_))"
   ]
  },
  {
   "cell_type": "code",
   "execution_count": 28,
   "metadata": {},
   "outputs": [
    {
     "name": "stdout",
     "output_type": "stream",
     "text": [
      "Silhouette score: 0.3762623965740204\n",
      "Homogeneity: 0.763\n",
      "Completeness: 0.841\n",
      "V-measure: 0.800\n"
     ]
    }
   ],
   "source": [
    "print(f'Silhouette score: {metrics.silhouette_score(doc_scaled, labels=af.labels_.reshape(-1))}')\n",
    "labels = np.array(documents[:, 2], dtype=int)\n",
    "print(\"Homogeneity: %0.3f\" % metrics.homogeneity_score(labels, af.labels_))\n",
    "print(\"Completeness: %0.3f\" % metrics.completeness_score(labels, af.labels_))\n",
    "print(\"V-measure: %0.3f\" % metrics.v_measure_score(labels, af.labels_))"
   ]
  },
  {
   "cell_type": "markdown",
   "metadata": {},
   "source": [
    "**Grab a random subreddit**"
   ]
  },
  {
   "cell_type": "code",
   "execution_count": 29,
   "metadata": {},
   "outputs": [
    {
     "name": "stdout",
     "output_type": "stream",
     "text": [
      "Sample subreddit: worldnews\n",
      "Sample category: politics_news\n"
     ]
    }
   ],
   "source": [
    "doc_id = random.randint(0, len(tagged_data) - 1)\n",
    "inferred_vector = model.infer_vector(tagged_data[doc_id][0])\n",
    "sims = model.docvecs.most_similar([inferred_vector], topn=len(model.docvecs))\n",
    "\n",
    "indexes = np.array(sims[1:11], dtype=int)[:, 0]\n",
    "\n",
    "print(f'Sample subreddit: {documents[doc_id][3]}')\n",
    "print(f'Sample category: {documents[doc_id][1]}')"
   ]
  },
  {
   "cell_type": "markdown",
   "metadata": {},
   "source": [
    "**Agglomerative Clustering Recommendations**"
   ]
  },
  {
   "cell_type": "code",
   "execution_count": 30,
   "metadata": {},
   "outputs": [
    {
     "name": "stdout",
     "output_type": "stream",
     "text": [
      "gaming\n",
      "news\n",
      "technology\n"
     ]
    }
   ],
   "source": [
    "cluster = agg.labels_[doc_id]\n",
    "same_cluster_index = np.where(agg.labels_== cluster)[0]\n",
    "for index in same_cluster_index:\n",
    "    if index != doc_id:\n",
    "        print(documents[index][3])"
   ]
  },
  {
   "cell_type": "markdown",
   "metadata": {},
   "source": [
    "**Affinity Propagation Recommendations**"
   ]
  },
  {
   "cell_type": "code",
   "execution_count": 31,
   "metadata": {},
   "outputs": [
    {
     "name": "stdout",
     "output_type": "stream",
     "text": [
      "news\n",
      "PoliticalHumor\n",
      "politics\n"
     ]
    }
   ],
   "source": [
    "cluster = af.labels_[doc_id]\n",
    "same_cluster_index = np.where(af.labels_== cluster)[0]\n",
    "for index in same_cluster_index:\n",
    "    if index != doc_id:\n",
    "        print(documents[index][3])"
   ]
  }
 ],
 "metadata": {
  "kernelspec": {
   "display_name": "Python 3",
   "language": "python",
   "name": "python3"
  },
  "language_info": {
   "codemirror_mode": {
    "name": "ipython",
    "version": 3
   },
   "file_extension": ".py",
   "mimetype": "text/x-python",
   "name": "python",
   "nbconvert_exporter": "python",
   "pygments_lexer": "ipython3",
   "version": "3.7.4"
  }
 },
 "nbformat": 4,
 "nbformat_minor": 2
}

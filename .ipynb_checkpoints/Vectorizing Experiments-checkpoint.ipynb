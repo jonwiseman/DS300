{
 "cells": [
  {
   "cell_type": "code",
   "execution_count": 1,
   "metadata": {},
   "outputs": [],
   "source": [
    "from sklearn.datasets import fetch_20newsgroups\n",
    "from sklearn.decomposition import TruncatedSVD\n",
    "from sklearn.feature_extraction.text import TfidfVectorizer\n",
    "from sklearn.feature_extraction.text import HashingVectorizer\n",
    "from sklearn.feature_extraction.text import TfidfTransformer\n",
    "from sklearn.pipeline import make_pipeline\n",
    "from sklearn.preprocessing import Normalizer\n",
    "from sklearn import metrics\n",
    "\n",
    "from sklearn.cluster import KMeans, MiniBatchKMeans\n",
    "\n",
    "import os\n",
    "import glob\n",
    "import pickle\n",
    "import numpy as np"
   ]
  },
  {
   "cell_type": "markdown",
   "metadata": {},
   "source": [
    "## Fetch Word Lists, Names, and Labels"
   ]
  },
  {
   "cell_type": "code",
   "execution_count": 2,
   "metadata": {},
   "outputs": [],
   "source": [
    "cats = ['sports', 'reading', 'politics_news', 'music', 'gaming', 'art']"
   ]
  },
  {
   "cell_type": "code",
   "execution_count": 3,
   "metadata": {},
   "outputs": [],
   "source": [
    "documents = []"
   ]
  },
  {
   "cell_type": "code",
   "execution_count": 4,
   "metadata": {},
   "outputs": [],
   "source": [
    "for cat in cats:\n",
    "    os.chdir(fr'C:\\Users\\jonat\\Desktop\\Data Mining\\Project\\Data\\Text\\{cat}')\n",
    "    files = glob.glob('*.pickle')\n",
    "    for file in files:\n",
    "        word_list = pickle.load(open(fr'C:\\Users\\jonat\\Desktop\\Data Mining\\Project\\Data\\Text\\{cat}\\{file}', 'rb'))\n",
    "        documents.append((' '.join(word_list), file.split('.pickle')[0], cat))"
   ]
  },
  {
   "cell_type": "code",
   "execution_count": 5,
   "metadata": {},
   "outputs": [],
   "source": [
    "documents = np.array(documents)"
   ]
  },
  {
   "cell_type": "code",
   "execution_count": 16,
   "metadata": {},
   "outputs": [
    {
     "data": {
      "text/plain": [
       "array(['sports', 'sports', 'sports', 'sports', 'reading', 'reading',\n",
       "       'reading', 'reading', 'reading', 'politics_news', 'politics_news',\n",
       "       'politics_news', 'politics_news', 'music', 'music', 'music',\n",
       "       'music', 'music', 'gaming', 'gaming', 'gaming', 'gaming', 'gaming',\n",
       "       'art', 'art', 'art', 'art', 'art'], dtype='<U142966')"
      ]
     },
     "execution_count": 16,
     "metadata": {},
     "output_type": "execute_result"
    }
   ],
   "source": [
    "documents[:, 2]"
   ]
  },
  {
   "cell_type": "markdown",
   "metadata": {},
   "source": [
    "## Create Document Vectors"
   ]
  },
  {
   "cell_type": "code",
   "execution_count": 10,
   "metadata": {},
   "outputs": [],
   "source": [
    "vectorizer = TfidfVectorizer(strip_accents='unicode')\n",
    "X = vectorizer.fit_transform(documents[:, 0])\n",
    "svd = TruncatedSVD()\n",
    "normalizer = Normalizer(copy=False)\n",
    "lsa = make_pipeline(svd, normalizer)\n",
    "\n",
    "X = lsa.fit_transform(X)"
   ]
  },
  {
   "cell_type": "code",
   "execution_count": 11,
   "metadata": {},
   "outputs": [
    {
     "data": {
      "text/plain": [
       "array([[ 0.91813465, -0.39626856],\n",
       "       [ 0.94959743, -0.31347204],\n",
       "       [ 0.92905239, -0.36994818],\n",
       "       [ 0.95018525, -0.31168574],\n",
       "       [ 0.61193891,  0.79090503],\n",
       "       [ 0.89823402,  0.43951752],\n",
       "       [ 0.40022586,  0.91641653],\n",
       "       [ 0.48306013,  0.87558718],\n",
       "       [ 0.63460141,  0.7728396 ],\n",
       "       [ 0.98763336, -0.1567812 ],\n",
       "       [ 0.98932991, -0.14569256],\n",
       "       [ 0.95597291, -0.29345494],\n",
       "       [ 0.96666577, -0.25604159],\n",
       "       [ 0.99028906,  0.13902363],\n",
       "       [ 0.95906703,  0.28317917],\n",
       "       [ 0.9066881 ,  0.42180171],\n",
       "       [ 0.95748162,  0.28849426],\n",
       "       [ 0.95543127,  0.29521362],\n",
       "       [ 0.92583219, -0.37793485],\n",
       "       [ 0.94920462, -0.31465947],\n",
       "       [ 0.91652   , -0.39998887],\n",
       "       [ 0.93007681, -0.3673651 ],\n",
       "       [ 0.93530615, -0.35383951],\n",
       "       [ 0.98992237,  0.14161107],\n",
       "       [ 0.96409998,  0.2655395 ],\n",
       "       [ 0.94368593,  0.33084265],\n",
       "       [ 0.99999042,  0.00437692],\n",
       "       [ 0.99085821,  0.13490742]])"
      ]
     },
     "execution_count": 11,
     "metadata": {},
     "output_type": "execute_result"
    }
   ],
   "source": [
    "X"
   ]
  },
  {
   "cell_type": "code",
   "execution_count": 12,
   "metadata": {},
   "outputs": [],
   "source": [
    "import matplotlib.pyplot as plt\n",
    "%matplotlib inline"
   ]
  },
  {
   "cell_type": "code",
   "execution_count": 70,
   "metadata": {},
   "outputs": [],
   "source": [
    "colors = {'sports': ['red', 0], 'reading': ['blue', 0], 'politics_news': ['green', 0], 'music': ['orange', 0], 'gaming': ['black', 0], 'art': ['yellow', 0]}"
   ]
  },
  {
   "cell_type": "code",
   "execution_count": 71,
   "metadata": {},
   "outputs": [],
   "source": [
    "def get_label(i, colors, documents):\n",
    "    if colors[documents[i][2]][1] == 0:\n",
    "        colors[documents[i][2]][1] += 1\n",
    "        return documents[i][2]\n",
    "    else:\n",
    "        return \"\""
   ]
  },
  {
   "cell_type": "code",
   "execution_count": 76,
   "metadata": {},
   "outputs": [
    {
     "data": {
      "text/plain": [
       "<matplotlib.legend.Legend at 0x2b3c5a41708>"
      ]
     },
     "execution_count": 76,
     "metadata": {},
     "output_type": "execute_result"
    },
    {
     "data": {
      "image/png": "[encoded data removed]",
      "text/plain": [
       "<Figure size 1080x576 with 1 Axes>"
      ]
     },
     "metadata": {
      "needs_background": "light"
     },
     "output_type": "display_data"
    }
   ],
   "source": [
    "fig = plt.figure(figsize = [15, 8])\n",
    "ax = fig.add_axes([0.1, 0.1, 0.8, 0.8])\n",
    "\n",
    "for i, sub in enumerate(X):\n",
    "    ax.plot(sub[0], sub[1], color=colors[documents[i][2]][0], marker='o', label=get_label(i, colors, documents))\n",
    "    \n",
    "ax.legend()"
   ]
  }
 ],
 "metadata": {
  "kernelspec": {
   "display_name": "Python 3",
   "language": "python",
   "name": "python3"
  },
  "language_info": {
   "codemirror_mode": {
    "name": "ipython",
    "version": 3
   },
   "file_extension": ".py",
   "mimetype": "text/x-python",
   "name": "python",
   "nbconvert_exporter": "python",
   "pygments_lexer": "ipython3",
   "version": "3.7.4"
  }
 },
 "nbformat": 4,
 "nbformat_minor": 2
}
